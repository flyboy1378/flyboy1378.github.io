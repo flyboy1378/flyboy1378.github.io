{
 "cells": [
  {
   "cell_type": "markdown",
   "metadata": {},
   "source": [
    "## IS455 - Week5 - Homework 4\n",
    "### Working with Interactions\n",
    "#### Jeremy Carnahan"
   ]
  },
  {
   "cell_type": "code",
   "execution_count": 1,
   "metadata": {},
   "outputs": [],
   "source": [
    "%matplotlib inline"
   ]
  },
  {
   "cell_type": "code",
   "execution_count": 2,
   "metadata": {},
   "outputs": [],
   "source": [
    "import matplotlib.pyplot as plt\n",
    "import numpy as np\n",
    "import pandas as pd\n",
    "import ipywidgets\n",
    "import traitlets\n",
    "from IPython.display import display, clear_output"
   ]
  },
  {
   "cell_type": "markdown",
   "metadata": {},
   "source": [
    "#### Using traitlets and/or widgets to build a notebook"
   ]
  },
  {
   "cell_type": "markdown",
   "metadata": {},
   "source": [
    "Let's load in the UFO data and assign column headers."
   ]
  },
  {
   "cell_type": "code",
   "execution_count": 3,
   "metadata": {},
   "outputs": [],
   "source": [
    "ufos = pd.read_csv(\"ufo-scrubbed-geocoded-time-standardized-00.csv\",\n",
    "                  names = [\"date\", \"city\", \"state\", \"country\",\n",
    "                          \"shape\", \"duration_seconds\", \"duration\",\n",
    "                          \"comment\", \"report_date\", \"latitude\", \"longitude\"],\n",
    "                  parse_dates = [\"date\", \"report_date\"])"
   ]
  },
  {
   "cell_type": "markdown",
   "metadata": {},
   "source": [
    "Let's take a look at the data structure."
   ]
  },
  {
   "cell_type": "code",
   "execution_count": 4,
   "metadata": {},
   "outputs": [
    {
     "data": {
      "text/html": [
       "<div>\n",
       "<style scoped>\n",
       "    .dataframe tbody tr th:only-of-type {\n",
       "        vertical-align: middle;\n",
       "    }\n",
       "\n",
       "    .dataframe tbody tr th {\n",
       "        vertical-align: top;\n",
       "    }\n",
       "\n",
       "    .dataframe thead th {\n",
       "        text-align: right;\n",
       "    }\n",
       "</style>\n",
       "<table border=\"1\" class=\"dataframe\">\n",
       "  <thead>\n",
       "    <tr style=\"text-align: right;\">\n",
       "      <th></th>\n",
       "      <th>date</th>\n",
       "      <th>city</th>\n",
       "      <th>state</th>\n",
       "      <th>country</th>\n",
       "      <th>shape</th>\n",
       "      <th>duration_seconds</th>\n",
       "      <th>duration</th>\n",
       "      <th>comment</th>\n",
       "      <th>report_date</th>\n",
       "      <th>latitude</th>\n",
       "      <th>longitude</th>\n",
       "    </tr>\n",
       "  </thead>\n",
       "  <tbody>\n",
       "    <tr>\n",
       "      <th>0</th>\n",
       "      <td>1949-10-10 20:30:00</td>\n",
       "      <td>san marcos</td>\n",
       "      <td>tx</td>\n",
       "      <td>us</td>\n",
       "      <td>cylinder</td>\n",
       "      <td>2700.0</td>\n",
       "      <td>45 minutes</td>\n",
       "      <td>This event took place in early fall around 194...</td>\n",
       "      <td>2004-04-27</td>\n",
       "      <td>29.883056</td>\n",
       "      <td>-97.941111</td>\n",
       "    </tr>\n",
       "    <tr>\n",
       "      <th>1</th>\n",
       "      <td>1949-10-10 21:00:00</td>\n",
       "      <td>lackland afb</td>\n",
       "      <td>tx</td>\n",
       "      <td>NaN</td>\n",
       "      <td>light</td>\n",
       "      <td>7200.0</td>\n",
       "      <td>1-2 hrs</td>\n",
       "      <td>1949 Lackland AFB&amp;#44 TX.  Lights racing acros...</td>\n",
       "      <td>2005-12-16</td>\n",
       "      <td>29.384210</td>\n",
       "      <td>-98.581082</td>\n",
       "    </tr>\n",
       "    <tr>\n",
       "      <th>2</th>\n",
       "      <td>1955-10-10 17:00:00</td>\n",
       "      <td>chester (uk/england)</td>\n",
       "      <td>NaN</td>\n",
       "      <td>gb</td>\n",
       "      <td>circle</td>\n",
       "      <td>20.0</td>\n",
       "      <td>20 seconds</td>\n",
       "      <td>Green/Orange circular disc over Chester&amp;#44 En...</td>\n",
       "      <td>2008-01-21</td>\n",
       "      <td>53.200000</td>\n",
       "      <td>-2.916667</td>\n",
       "    </tr>\n",
       "    <tr>\n",
       "      <th>3</th>\n",
       "      <td>1956-10-10 21:00:00</td>\n",
       "      <td>edna</td>\n",
       "      <td>tx</td>\n",
       "      <td>us</td>\n",
       "      <td>circle</td>\n",
       "      <td>20.0</td>\n",
       "      <td>1/2 hour</td>\n",
       "      <td>My older brother and twin sister were leaving ...</td>\n",
       "      <td>2004-01-17</td>\n",
       "      <td>28.978333</td>\n",
       "      <td>-96.645833</td>\n",
       "    </tr>\n",
       "    <tr>\n",
       "      <th>4</th>\n",
       "      <td>1960-10-10 20:00:00</td>\n",
       "      <td>kaneohe</td>\n",
       "      <td>hi</td>\n",
       "      <td>us</td>\n",
       "      <td>light</td>\n",
       "      <td>900.0</td>\n",
       "      <td>15 minutes</td>\n",
       "      <td>AS a Marine 1st Lt. flying an FJ4B fighter/att...</td>\n",
       "      <td>2004-01-22</td>\n",
       "      <td>21.418056</td>\n",
       "      <td>-157.803611</td>\n",
       "    </tr>\n",
       "    <tr>\n",
       "      <th>...</th>\n",
       "      <td>...</td>\n",
       "      <td>...</td>\n",
       "      <td>...</td>\n",
       "      <td>...</td>\n",
       "      <td>...</td>\n",
       "      <td>...</td>\n",
       "      <td>...</td>\n",
       "      <td>...</td>\n",
       "      <td>...</td>\n",
       "      <td>...</td>\n",
       "      <td>...</td>\n",
       "    </tr>\n",
       "    <tr>\n",
       "      <th>80327</th>\n",
       "      <td>2013-09-09 21:15:00</td>\n",
       "      <td>nashville</td>\n",
       "      <td>tn</td>\n",
       "      <td>us</td>\n",
       "      <td>light</td>\n",
       "      <td>600.0</td>\n",
       "      <td>10 minutes</td>\n",
       "      <td>Round from the distance/slowly changing colors...</td>\n",
       "      <td>2013-09-30</td>\n",
       "      <td>36.165833</td>\n",
       "      <td>-86.784444</td>\n",
       "    </tr>\n",
       "    <tr>\n",
       "      <th>80328</th>\n",
       "      <td>2013-09-09 22:00:00</td>\n",
       "      <td>boise</td>\n",
       "      <td>id</td>\n",
       "      <td>us</td>\n",
       "      <td>circle</td>\n",
       "      <td>1200.0</td>\n",
       "      <td>20 minutes</td>\n",
       "      <td>Boise&amp;#44 ID&amp;#44 spherical&amp;#44 20 min&amp;#44 10 r...</td>\n",
       "      <td>2013-09-30</td>\n",
       "      <td>43.613611</td>\n",
       "      <td>-116.202500</td>\n",
       "    </tr>\n",
       "    <tr>\n",
       "      <th>80329</th>\n",
       "      <td>2013-09-09 22:00:00</td>\n",
       "      <td>napa</td>\n",
       "      <td>ca</td>\n",
       "      <td>us</td>\n",
       "      <td>other</td>\n",
       "      <td>1200.0</td>\n",
       "      <td>hour</td>\n",
       "      <td>Napa UFO&amp;#44</td>\n",
       "      <td>2013-09-30</td>\n",
       "      <td>38.297222</td>\n",
       "      <td>-122.284444</td>\n",
       "    </tr>\n",
       "    <tr>\n",
       "      <th>80330</th>\n",
       "      <td>2013-09-09 22:20:00</td>\n",
       "      <td>vienna</td>\n",
       "      <td>va</td>\n",
       "      <td>us</td>\n",
       "      <td>circle</td>\n",
       "      <td>5.0</td>\n",
       "      <td>5 seconds</td>\n",
       "      <td>Saw a five gold lit cicular craft moving fastl...</td>\n",
       "      <td>2013-09-30</td>\n",
       "      <td>38.901111</td>\n",
       "      <td>-77.265556</td>\n",
       "    </tr>\n",
       "    <tr>\n",
       "      <th>80331</th>\n",
       "      <td>2013-09-09 23:00:00</td>\n",
       "      <td>edmond</td>\n",
       "      <td>ok</td>\n",
       "      <td>us</td>\n",
       "      <td>cigar</td>\n",
       "      <td>1020.0</td>\n",
       "      <td>17 minutes</td>\n",
       "      <td>2 witnesses 2  miles apart&amp;#44 Red &amp;amp; White...</td>\n",
       "      <td>2013-09-30</td>\n",
       "      <td>35.652778</td>\n",
       "      <td>-97.477778</td>\n",
       "    </tr>\n",
       "  </tbody>\n",
       "</table>\n",
       "<p>80332 rows × 11 columns</p>\n",
       "</div>"
      ],
      "text/plain": [
       "                     date                  city state country     shape  \\\n",
       "0     1949-10-10 20:30:00            san marcos    tx      us  cylinder   \n",
       "1     1949-10-10 21:00:00          lackland afb    tx     NaN     light   \n",
       "2     1955-10-10 17:00:00  chester (uk/england)   NaN      gb    circle   \n",
       "3     1956-10-10 21:00:00                  edna    tx      us    circle   \n",
       "4     1960-10-10 20:00:00               kaneohe    hi      us     light   \n",
       "...                   ...                   ...   ...     ...       ...   \n",
       "80327 2013-09-09 21:15:00             nashville    tn      us     light   \n",
       "80328 2013-09-09 22:00:00                 boise    id      us    circle   \n",
       "80329 2013-09-09 22:00:00                  napa    ca      us     other   \n",
       "80330 2013-09-09 22:20:00                vienna    va      us    circle   \n",
       "80331 2013-09-09 23:00:00                edmond    ok      us     cigar   \n",
       "\n",
       "       duration_seconds    duration  \\\n",
       "0                2700.0  45 minutes   \n",
       "1                7200.0     1-2 hrs   \n",
       "2                  20.0  20 seconds   \n",
       "3                  20.0    1/2 hour   \n",
       "4                 900.0  15 minutes   \n",
       "...                 ...         ...   \n",
       "80327             600.0  10 minutes   \n",
       "80328            1200.0  20 minutes   \n",
       "80329            1200.0        hour   \n",
       "80330               5.0   5 seconds   \n",
       "80331            1020.0  17 minutes   \n",
       "\n",
       "                                                 comment report_date  \\\n",
       "0      This event took place in early fall around 194...  2004-04-27   \n",
       "1      1949 Lackland AFB&#44 TX.  Lights racing acros...  2005-12-16   \n",
       "2      Green/Orange circular disc over Chester&#44 En...  2008-01-21   \n",
       "3      My older brother and twin sister were leaving ...  2004-01-17   \n",
       "4      AS a Marine 1st Lt. flying an FJ4B fighter/att...  2004-01-22   \n",
       "...                                                  ...         ...   \n",
       "80327  Round from the distance/slowly changing colors...  2013-09-30   \n",
       "80328  Boise&#44 ID&#44 spherical&#44 20 min&#44 10 r...  2013-09-30   \n",
       "80329                                       Napa UFO&#44  2013-09-30   \n",
       "80330  Saw a five gold lit cicular craft moving fastl...  2013-09-30   \n",
       "80331  2 witnesses 2  miles apart&#44 Red &amp; White...  2013-09-30   \n",
       "\n",
       "        latitude   longitude  \n",
       "0      29.883056  -97.941111  \n",
       "1      29.384210  -98.581082  \n",
       "2      53.200000   -2.916667  \n",
       "3      28.978333  -96.645833  \n",
       "4      21.418056 -157.803611  \n",
       "...          ...         ...  \n",
       "80327  36.165833  -86.784444  \n",
       "80328  43.613611 -116.202500  \n",
       "80329  38.297222 -122.284444  \n",
       "80330  38.901111  -77.265556  \n",
       "80331  35.652778  -97.477778  \n",
       "\n",
       "[80332 rows x 11 columns]"
      ]
     },
     "execution_count": 4,
     "metadata": {},
     "output_type": "execute_result"
    }
   ],
   "source": [
    "ufos"
   ]
  },
  {
   "cell_type": "markdown",
   "metadata": {},
   "source": [
    "As demonstrated in class, we'll replace NaNs with \"unknown\"."
   ]
  },
  {
   "cell_type": "code",
   "execution_count": 5,
   "metadata": {},
   "outputs": [],
   "source": [
    "ufos = ufos.fillna({'country':'unknown', 'state':'unknown', 'shape':'unknown'})"
   ]
  },
  {
   "cell_type": "markdown",
   "metadata": {},
   "source": [
    "Let's begin making the compents of our interactive scatter plot for the assignment.  We'll start by setting up our functions to call. "
   ]
  },
  {
   "cell_type": "markdown",
   "metadata": {},
   "source": [
    "For plotting purposes, it will best if we downsample the data to 1000 random samples as demonstrated in class."
   ]
  },
  {
   "cell_type": "code",
   "execution_count": 6,
   "metadata": {},
   "outputs": [
    {
     "data": {
      "text/plain": [
       "array([47695,  5513, 32851, 50707, 45117, 36945, 25206, 30308, 33881,\n",
       "       77367,  7079, 29500, 24090, 24419, 77205, 70418,  1535,  3826,\n",
       "       78941, 79206,  4491, 20997,  6922, 16846, 38581, 11182, 27727,\n",
       "       56824,  4197, 25457, 18860, 27650, 60449, 50073, 27610, 77821,\n",
       "       68399, 33273, 44037, 40908, 69644, 53306, 40536,  3401,   632,\n",
       "       34819, 63774,  2509, 79175, 67413, 15594, 68770, 30067, 70020,\n",
       "       35872, 57551, 36828, 33775, 33817, 39727, 25363, 20525,  5651,\n",
       "       70454, 33589, 12532, 19682, 30296, 34926, 50525, 27976, 45817,\n",
       "       40326,  9574, 42990, 30442, 63854, 41497, 51158, 46387, 36081,\n",
       "       26478, 33498, 38313, 63027, 36786, 26593, 19705, 48888, 24004,\n",
       "       23674, 12908, 24482, 38487, 11470, 80109, 67570, 33245, 17038,\n",
       "       18498, 55995,  3061, 65857, 71599,  3134, 54182, 45352, 35801,\n",
       "       36955, 28082, 49685, 41334, 20251, 12124, 52470,  3014,  6050,\n",
       "       34854, 40927, 66511, 77020,  5892, 75069,  3564, 66423, 20689,\n",
       "       72169, 51940, 47002, 12091, 14525, 17615, 66263, 58730, 46542,\n",
       "        3812, 11809, 27007, 45196, 53977, 20295,  2741, 36240, 31995,\n",
       "       28652, 63754, 50677, 13490, 69416,  6447, 26006, 41938, 67125,\n",
       "       51264, 73840, 17813, 36626, 44765, 38476, 65520, 17070, 73433,\n",
       "        4765, 67442, 11143, 29891, 59656, 14560, 47478, 44009, 38860,\n",
       "       21342, 40480, 11826,  1071, 27444, 38953, 17275, 56287, 26364,\n",
       "       64573, 67346, 27304, 27669, 76033, 18619, 74992, 79750, 32408,\n",
       "       42481, 48114, 23411, 11261, 45888, 38289,  3497,  6399, 13150,\n",
       "       78173, 21439, 72821, 33950, 57355, 55914, 24606, 36418, 40119,\n",
       "       30381, 62193, 42682,  1914, 59845,  9363,  8924, 64146, 42521,\n",
       "       60241, 64746, 43966, 59594, 22631, 49111, 58068, 24536, 74286,\n",
       "       64223,  9815,    71, 54840, 37560, 75289, 47352, 42002, 20768,\n",
       "       15777, 74592, 47389, 78628, 58096, 17096, 38169, 57229, 72257,\n",
       "       50683,  3912,  1894, 24669,  8521, 26948, 45060, 62850, 57845,\n",
       "       66200, 17469, 30875, 43922, 79842, 13125, 16790, 48846, 12598,\n",
       "       31103, 51067, 66488, 25270,  6505,  4203, 73441, 25665, 58853,\n",
       "       72268,  3334,  2713,  6982, 17022, 33843, 10246, 35634, 42206,\n",
       "       59994, 40038, 24238, 48810, 20783, 28172, 74177, 38655, 24170,\n",
       "       27545, 48409,  6671,  1199,  2947, 73591, 52047, 70570, 40564,\n",
       "       38389, 33439, 26035, 66634, 37687, 55689,  1920, 67470, 51062,\n",
       "       57251, 70762, 63862, 29558, 50947, 15513, 64358, 66834, 15138,\n",
       "       60959, 54954, 47674, 33337, 12008, 24054, 58738, 22829, 53536,\n",
       "       55682, 57627,  9544, 40486, 75759, 25068, 35181, 78948, 27942,\n",
       "       23068, 77668,  7558, 69773, 44499, 76054, 32422, 13296,  7638,\n",
       "       65459, 76721, 35492, 74824, 67752, 14843, 42558, 68895,  7421,\n",
       "       39695, 33347, 29481, 19078, 25031, 24448, 62819, 35032, 16406,\n",
       "       55405, 45362, 64836, 75490, 12358,  8491, 54485,   666, 30167,\n",
       "       10903, 58905, 15022, 13548,  6728, 61065, 74840, 12156, 13346,\n",
       "       46272, 20716, 68373,  2067, 56490, 17428,  3035, 58792, 32665,\n",
       "         322, 45315, 66815, 35776, 55490, 65181, 66546, 30584, 15867,\n",
       "       15436,  5146, 40340, 31775, 71096, 62025, 74339, 51749, 21471,\n",
       "       27552, 78890, 73938, 17487, 32499,   514, 55435, 68086, 53188,\n",
       "       25885,  8103, 53999, 67791, 72132, 21751, 44903, 15805,  4424,\n",
       "       63113, 77622, 74473, 63451, 49966, 18757, 54216, 80293, 71219,\n",
       "       63984, 25439, 29961,  8136, 43121, 64298, 14891, 58513, 48186,\n",
       "       50747, 50494, 64825, 34598,  2628, 39103, 77509,  4378,  2635,\n",
       "       19956, 56134, 46602,  2282,  2694, 80197, 58451,   309, 37737,\n",
       "       24121, 14138, 39561, 44294,  5258, 16269, 39271, 79766, 74220,\n",
       "       56235,  2946, 46410, 40226, 50109, 24402, 74262, 59311, 78630,\n",
       "       73649, 35249, 77215, 48357, 20102, 20456,  8546, 70760, 65161,\n",
       "        9729, 76537,  6402, 18883, 43555,  4877, 47878,   721, 63167,\n",
       "       73305, 64637, 51360, 39543,  5302, 53143, 61935, 38088, 21691,\n",
       "       29779, 44164, 70986, 22419, 51134, 38385, 48893, 77567, 37940,\n",
       "       53853, 51847,  6198, 11966, 41254, 58706, 76193, 78639, 50662,\n",
       "       60189, 56620, 45612, 73917, 69020, 14311, 64625, 40514, 37235,\n",
       "       46727,   257,  9536,  8988, 49505, 15544,  5692, 50176, 20748,\n",
       "       51491, 24687, 78127, 31168, 56388, 31321, 57226, 72102,  6129,\n",
       "       48852, 72246,  5883,  9302, 69131, 46959, 66757,  4200,   664,\n",
       "       41655, 48884, 17375, 47920, 24309, 50926, 30221, 80186, 20897,\n",
       "       23294,  8363, 18422, 23919,  2566, 28291, 63874, 36986, 61186,\n",
       "       47372, 41033, 16660, 30962, 79316, 38484, 50536, 19516, 18396,\n",
       "       65796, 60881, 23112, 56121,  7838, 29977, 50836, 69625, 40381,\n",
       "       60893,  9434, 74289, 42040, 46661, 72307, 24954, 53597,  4740,\n",
       "       24247, 71717, 75859, 31675, 57733, 31545, 35764, 28774, 52821,\n",
       "       24232, 49290, 62277, 62225, 54669, 63501, 41299, 74706, 39021,\n",
       "       68945, 17770, 37300, 55495, 69326, 15697, 72065, 16702, 15780,\n",
       "       56044,   686,  8044, 13529, 72646, 78391, 62333, 33094, 25742,\n",
       "       77540, 18233,  4762, 36347, 72241,  3852, 31656, 10935, 25764,\n",
       "       30410, 38228, 66341,  4981, 24631, 61600, 15207, 20975,   452,\n",
       "       60478,    80, 42445, 30368, 61034, 77064, 56651, 31239, 52873,\n",
       "       57822, 51825, 72180, 29638, 34870, 14108, 47494,  4096, 64790,\n",
       "       45812, 65369, 22925, 19512, 68257, 31312, 80227, 27406,  8158,\n",
       "       60491, 42122, 17783, 71301, 71739, 67120, 21122, 62515, 40858,\n",
       "       73563, 44090, 29036, 31232, 49962, 65012, 35339, 64042,  6907,\n",
       "       12230, 20885, 44250, 36543, 79735, 75431, 38189, 36727, 51314,\n",
       "       57496, 38945, 66916, 77279, 14712, 28329, 46916, 44484, 67629,\n",
       "       19348, 48399, 71567, 64691, 36935, 26243, 50654, 18733, 77729,\n",
       "       52347, 29132, 14668, 25896, 59646, 49110, 41628, 62083,  3441,\n",
       "       79465, 65716, 79472, 70356, 61612, 69882, 51050, 11617, 35682,\n",
       "       56073, 20893, 25536, 59609,  5724, 16720, 21992, 25091, 50939,\n",
       "       62476, 24946, 38051,  9344, 52061, 79733, 21046, 39611,  3971,\n",
       "       41532, 74709, 70609, 44191, 45433, 57762, 79595, 49742, 49075,\n",
       "       64905, 67198, 29259,   633, 32289, 22583, 66255,  6389, 63943,\n",
       "       57622, 15648,  5043, 48103,  4130, 31686, 35589, 14532, 71920,\n",
       "       35412, 54426, 72549,   178, 10922, 78301, 20621, 64371, 42406,\n",
       "       19711, 51164, 33829, 69053, 11155, 19285, 32571, 41624, 19762,\n",
       "       64251,    16, 49230, 72139,  6041, 77087, 51348, 54970, 22013,\n",
       "       71467, 23257, 38307, 55767,  7557,  9905, 69911, 41350,  5370,\n",
       "       74586,  1957,  5147,   245, 15321, 63990, 59488, 76890, 17910,\n",
       "       25656, 36427, 27332, 23057, 15384, 31632, 69100, 39437, 45775,\n",
       "       18443, 26369, 58178, 35676, 21580, 53309, 55222, 27209, 39117,\n",
       "       31224,  1667, 69905,  3648, 73136,  3011, 40266, 11990, 40949,\n",
       "       26611,  1481, 45869, 28396, 17333, 54107, 39863, 25668, 62689,\n",
       "       25026,  3519, 42674, 35047, 49878,  4917, 58511, 34341,   781,\n",
       "       15151, 70294, 71290, 18107, 75124, 59511, 14086, 65300, 15685,\n",
       "        3459, 63137, 65677, 61966, 17139, 24192, 71377, 20061, 50392,\n",
       "       61912, 37905, 38418, 46368,  2842, 17342, 35301, 44879, 21438,\n",
       "       79717,  8908, 42859, 44346, 72845, 28259, 33585, 77134, 11289,\n",
       "       67463, 14901, 12094, 65728, 76529, 10230, 27384, 64728, 77787,\n",
       "       32121, 76869, 32857, 31455, 11043, 63409, 79190, 34415,  4705,\n",
       "       31627, 36098, 64734, 59715,  2397, 46386, 62512, 71141, 34226,\n",
       "        4855, 19701,  7725, 13508, 13400, 47786, 71555, 54475, 22226,\n",
       "       39983, 30118, 22193, 74598, 33947,  7994, 36348, 36756, 25757,\n",
       "       46117, 32443, 23727,  3305, 28955, 65880, 37937, 40054, 59365,\n",
       "       50084, 13915, 23633, 11085,  1565, 74857, 73753, 48546, 42456,\n",
       "       16069, 43976, 27139, 25463,  2187, 60356, 33005, 60181, 69478,\n",
       "        2590, 45607, 39239, 12803, 10699, 64878, 50414,  9053, 57156,\n",
       "       22036])"
      ]
     },
     "execution_count": 6,
     "metadata": {},
     "output_type": "execute_result"
    }
   ],
   "source": [
    "nsamples = 1000\n",
    "downSampleInds = np.random.choice(range(len(ufos)-1), nsamples, replace=False)\n",
    "downSampleInds"
   ]
  },
  {
   "cell_type": "code",
   "execution_count": 7,
   "metadata": {},
   "outputs": [],
   "source": [
    "ufosDS = ufos.loc[downSampleInds]"
   ]
  },
  {
   "cell_type": "markdown",
   "metadata": {},
   "source": [
    "Below I tried to use a decreator with the ipywidgets.interact; however, I was unable to get these decorators to work with the .observe feature.  I ended up using ipywidgets.dropdown instead to create widget objects that were recognized by .observe further below. "
   ]
  },
  {
   "cell_type": "code",
   "execution_count": 8,
   "metadata": {},
   "outputs": [],
   "source": [
    "# @ipywidgets.interact(Catagorical = ['City', 'State', 'Country'])\n",
    "# def select_cat(Catagorical):\n",
    "#     if Catagorical == 'City':\n",
    "#         return ufosDS['city']\n",
    "#     elif Catagorical == 'State':\n",
    "#         return ufosDS['state']\n",
    "#     elif Catagorical == 'Country':\n",
    "#         return ufosDS['country']\n",
    "    \n",
    "# @ipywidgets.interact(Numerical = ['Duration in Seconds', 'Latitude', 'Longitude'])\n",
    "# def select_num(Numerical):\n",
    "#     if Numerical == 'Duration in Seconds':\n",
    "#         return np.log10(ufosDS['duration_seconds'])\n",
    "#     elif Numerical == 'Latitude':\n",
    "#         return ufosDS['latitude']\n",
    "#     elif Numerical == 'Longitude':\n",
    "#         return ufosDS['longitude']\n",
    "    "
   ]
  },
  {
   "cell_type": "markdown",
   "metadata": {},
   "source": [
    "I have chosen here to use just the 'State' and 'Country' catagorical options for this widget as the 'City' category crowded the x-axis label to the point that the scatter plot was almost meaningless.  "
   ]
  },
  {
   "cell_type": "code",
   "execution_count": 9,
   "metadata": {},
   "outputs": [],
   "source": [
    "def plot_selections(x_axis, y_axis, color):\n",
    "    fig, ax = plt.subplots(1,1, figsize=(20,4))\n",
    "    ax.set_xlabel(x_axis)\n",
    "    ax.set_ylabel(y_axis)\n",
    "    ax.set_title('UFO Sightings by Geography')\n",
    "    if x_axis == 'State':\n",
    "        x_axis = 'state'\n",
    "    if x_axis == 'Country':\n",
    "        x_axis = 'country'\n",
    "    \n",
    "    if y_axis == 'Latitude':\n",
    "        y_axis = 'latitude'\n",
    "    if y_axis == 'Longitude':\n",
    "        y_axis = 'longitude'    \n",
    "    if y_axis == 'Duration in Seconds (Log)':\n",
    "        ax.scatter(ufosDS[x_axis], np.log10(ufosDS['duration_seconds']), color=color)\n",
    "    else:\n",
    "        ax.scatter(ufosDS[x_axis], ufosDS[y_axis], color=color)     "
   ]
  },
  {
   "cell_type": "code",
   "execution_count": 10,
   "metadata": {},
   "outputs": [],
   "source": [
    "dropdown_cat = ipywidgets.Dropdown(\n",
    "    value='State', \n",
    "    options=['State', 'Country'], \n",
    "    description='Catagorical')\n",
    "\n",
    "dropdown_num = ipywidgets.Dropdown(\n",
    "    value='Duration in Seconds (Log)', \n",
    "    options=['Duration in Seconds (Log)', 'Latitude', 'Longitude'], \n",
    "    description='Numerical')\n",
    "\n",
    "# Color picker widget found on ipywidget.readthedocs here:\n",
    "# https://ipywidgets.readthedocs.io/en/latest/examples/Widget%20List.html \n",
    "color_picker = ipywidgets.ColorPicker(value='#ff0000', description='Choose Color')"
   ]
  },
  {
   "cell_type": "code",
   "execution_count": 11,
   "metadata": {},
   "outputs": [],
   "source": [
    "def cat_update(change):\n",
    "    clear_output()\n",
    "    display(ipywidgets.HBox([dropdown_cat, dropdown_num, color_picker]))\n",
    "    plot_selections(change['new'], dropdown_num.value, color_picker.value)\n",
    "\n",
    "def num_update(change):\n",
    "    clear_output()\n",
    "    display(ipywidgets.HBox([dropdown_cat, dropdown_num, color_picker]))\n",
    "    plot_selections(dropdown_cat.value, change['new'], color_picker.value)\n",
    "\n",
    "def color_update(change):\n",
    "    clear_output()\n",
    "    display(ipywidgets.HBox([dropdown_cat, dropdown_num, color_picker]))\n",
    "    plot_selections(dropdown_cat.value, dropdown_num.value, change['new'])\n",
    "    \n",
    "dropdown_cat.observe(cat_update, 'value')\n",
    "dropdown_num.observe(num_update, 'value')\n",
    "color_picker.observe(color_update, 'value')"
   ]
  },
  {
   "cell_type": "code",
   "execution_count": 12,
   "metadata": {},
   "outputs": [
    {
     "data": {
      "application/vnd.jupyter.widget-view+json": {
       "model_id": "5fc6098a09274a0bad074ba1fd30d01e",
       "version_major": 2,
       "version_minor": 0
      },
      "text/plain": [
       "HBox(children=(Dropdown(description='Catagorical', options=('State', 'Country'), value='State'), Dropdown(desc…"
      ]
     },
     "metadata": {},
     "output_type": "display_data"
    },
    {
     "data": {
      "image/png": "[encoded data removed]",
      "text/plain": [
       "<Figure size 1440x288 with 1 Axes>"
      ]
     },
     "metadata": {
      "needs_background": "light"
     },
     "output_type": "display_data"
    }
   ],
   "source": [
    "plot_selections('State', 'Duration in Seconds (Log)', '#ff0000')\n",
    "ipywidgets.HBox([dropdown_cat, dropdown_num, color_picker])"
   ]
  },
  {
   "cell_type": "markdown",
   "metadata": {},
   "source": [
    "#### Build a second widget that displays binned, aggregate values of a column where you can change:\n",
    "* Field to 'bin'\n",
    "* For numerical variables the number of bins"
   ]
  },
  {
   "cell_type": "markdown",
   "metadata": {},
   "source": [
    "We will continue with the same UFO dataset, so our prior data clenzing is still valid for this widget.  Additionally, since we will be creating a subset via aggregation, I've elected to go back to using the full UFO dataset rather than the down-sampled dataset from the last exercise. However, we still need to choose and create some aggregate subsets of the data.  "
   ]
  },
  {
   "cell_type": "markdown",
   "metadata": {},
   "source": [
    "I found a useful conversion in Pandas to convert a date & timestamp to just a date on StackExchange:\n",
    "Solution provided by 'jezrael' here:  https://stackoverflow.com/questions/38067704/how-to-change-the-datetime-format-in-pandas"
   ]
  },
  {
   "cell_type": "code",
   "execution_count": 13,
   "metadata": {},
   "outputs": [],
   "source": [
    "ufos['date'] = pd.to_datetime(ufos.date)\n",
    "ufos['mdY_date'] = ufos['date'].dt.strftime('%m/%d/%Y')\n",
    "ufos['year'] = ufos['date'].dt.strftime('%Y')"
   ]
  },
  {
   "cell_type": "code",
   "execution_count": 14,
   "metadata": {},
   "outputs": [
    {
     "data": {
      "text/html": [
       "<div>\n",
       "<style scoped>\n",
       "    .dataframe tbody tr th:only-of-type {\n",
       "        vertical-align: middle;\n",
       "    }\n",
       "\n",
       "    .dataframe tbody tr th {\n",
       "        vertical-align: top;\n",
       "    }\n",
       "\n",
       "    .dataframe thead th {\n",
       "        text-align: right;\n",
       "    }\n",
       "</style>\n",
       "<table border=\"1\" class=\"dataframe\">\n",
       "  <thead>\n",
       "    <tr style=\"text-align: right;\">\n",
       "      <th></th>\n",
       "      <th>date</th>\n",
       "      <th>city</th>\n",
       "      <th>state</th>\n",
       "      <th>country</th>\n",
       "      <th>shape</th>\n",
       "      <th>duration_seconds</th>\n",
       "      <th>duration</th>\n",
       "      <th>comment</th>\n",
       "      <th>report_date</th>\n",
       "      <th>latitude</th>\n",
       "      <th>longitude</th>\n",
       "      <th>mdY_date</th>\n",
       "      <th>year</th>\n",
       "    </tr>\n",
       "  </thead>\n",
       "  <tbody>\n",
       "    <tr>\n",
       "      <th>0</th>\n",
       "      <td>1949-10-10 20:30:00</td>\n",
       "      <td>san marcos</td>\n",
       "      <td>tx</td>\n",
       "      <td>us</td>\n",
       "      <td>cylinder</td>\n",
       "      <td>2700.0</td>\n",
       "      <td>45 minutes</td>\n",
       "      <td>This event took place in early fall around 194...</td>\n",
       "      <td>2004-04-27</td>\n",
       "      <td>29.883056</td>\n",
       "      <td>-97.941111</td>\n",
       "      <td>10/10/1949</td>\n",
       "      <td>1949</td>\n",
       "    </tr>\n",
       "    <tr>\n",
       "      <th>1</th>\n",
       "      <td>1949-10-10 21:00:00</td>\n",
       "      <td>lackland afb</td>\n",
       "      <td>tx</td>\n",
       "      <td>unknown</td>\n",
       "      <td>light</td>\n",
       "      <td>7200.0</td>\n",
       "      <td>1-2 hrs</td>\n",
       "      <td>1949 Lackland AFB&amp;#44 TX.  Lights racing acros...</td>\n",
       "      <td>2005-12-16</td>\n",
       "      <td>29.384210</td>\n",
       "      <td>-98.581082</td>\n",
       "      <td>10/10/1949</td>\n",
       "      <td>1949</td>\n",
       "    </tr>\n",
       "    <tr>\n",
       "      <th>2</th>\n",
       "      <td>1955-10-10 17:00:00</td>\n",
       "      <td>chester (uk/england)</td>\n",
       "      <td>unknown</td>\n",
       "      <td>gb</td>\n",
       "      <td>circle</td>\n",
       "      <td>20.0</td>\n",
       "      <td>20 seconds</td>\n",
       "      <td>Green/Orange circular disc over Chester&amp;#44 En...</td>\n",
       "      <td>2008-01-21</td>\n",
       "      <td>53.200000</td>\n",
       "      <td>-2.916667</td>\n",
       "      <td>10/10/1955</td>\n",
       "      <td>1955</td>\n",
       "    </tr>\n",
       "    <tr>\n",
       "      <th>3</th>\n",
       "      <td>1956-10-10 21:00:00</td>\n",
       "      <td>edna</td>\n",
       "      <td>tx</td>\n",
       "      <td>us</td>\n",
       "      <td>circle</td>\n",
       "      <td>20.0</td>\n",
       "      <td>1/2 hour</td>\n",
       "      <td>My older brother and twin sister were leaving ...</td>\n",
       "      <td>2004-01-17</td>\n",
       "      <td>28.978333</td>\n",
       "      <td>-96.645833</td>\n",
       "      <td>10/10/1956</td>\n",
       "      <td>1956</td>\n",
       "    </tr>\n",
       "    <tr>\n",
       "      <th>4</th>\n",
       "      <td>1960-10-10 20:00:00</td>\n",
       "      <td>kaneohe</td>\n",
       "      <td>hi</td>\n",
       "      <td>us</td>\n",
       "      <td>light</td>\n",
       "      <td>900.0</td>\n",
       "      <td>15 minutes</td>\n",
       "      <td>AS a Marine 1st Lt. flying an FJ4B fighter/att...</td>\n",
       "      <td>2004-01-22</td>\n",
       "      <td>21.418056</td>\n",
       "      <td>-157.803611</td>\n",
       "      <td>10/10/1960</td>\n",
       "      <td>1960</td>\n",
       "    </tr>\n",
       "  </tbody>\n",
       "</table>\n",
       "</div>"
      ],
      "text/plain": [
       "                 date                  city    state  country     shape  \\\n",
       "0 1949-10-10 20:30:00            san marcos       tx       us  cylinder   \n",
       "1 1949-10-10 21:00:00          lackland afb       tx  unknown     light   \n",
       "2 1955-10-10 17:00:00  chester (uk/england)  unknown       gb    circle   \n",
       "3 1956-10-10 21:00:00                  edna       tx       us    circle   \n",
       "4 1960-10-10 20:00:00               kaneohe       hi       us     light   \n",
       "\n",
       "   duration_seconds    duration  \\\n",
       "0            2700.0  45 minutes   \n",
       "1            7200.0     1-2 hrs   \n",
       "2              20.0  20 seconds   \n",
       "3              20.0    1/2 hour   \n",
       "4             900.0  15 minutes   \n",
       "\n",
       "                                             comment report_date   latitude  \\\n",
       "0  This event took place in early fall around 194...  2004-04-27  29.883056   \n",
       "1  1949 Lackland AFB&#44 TX.  Lights racing acros...  2005-12-16  29.384210   \n",
       "2  Green/Orange circular disc over Chester&#44 En...  2008-01-21  53.200000   \n",
       "3  My older brother and twin sister were leaving ...  2004-01-17  28.978333   \n",
       "4  AS a Marine 1st Lt. flying an FJ4B fighter/att...  2004-01-22  21.418056   \n",
       "\n",
       "    longitude    mdY_date  year  \n",
       "0  -97.941111  10/10/1949  1949  \n",
       "1  -98.581082  10/10/1949  1949  \n",
       "2   -2.916667  10/10/1955  1955  \n",
       "3  -96.645833  10/10/1956  1956  \n",
       "4 -157.803611  10/10/1960  1960  "
      ]
     },
     "execution_count": 14,
     "metadata": {},
     "output_type": "execute_result"
    }
   ],
   "source": [
    "ufos.head()"
   ]
  },
  {
   "cell_type": "markdown",
   "metadata": {},
   "source": [
    "Let's convert the years to an integer to make it easier to bin later in the exercise."
   ]
  },
  {
   "cell_type": "code",
   "execution_count": 15,
   "metadata": {},
   "outputs": [],
   "source": [
    "ufos['year'] = ufos['year'].astype(str).astype(int)"
   ]
  },
  {
   "cell_type": "markdown",
   "metadata": {},
   "source": [
    "Let's explore some different types of aggregations and plotting."
   ]
  },
  {
   "cell_type": "code",
   "execution_count": null,
   "metadata": {},
   "outputs": [],
   "source": []
  },
  {
   "cell_type": "markdown",
   "metadata": {},
   "source": [
    "Used examples from pandas docs page here to build bar plot from groupby:\n",
    "https://pandas.pydata.org/pandas-docs/version/0.16.2/generated/pandas.core.groupby.DataFrameGroupBy.plot.html "
   ]
  },
  {
   "cell_type": "code",
   "execution_count": 16,
   "metadata": {},
   "outputs": [
    {
     "data": {
      "image/png": "[encoded data removed]",
      "text/plain": [
       "<Figure size 432x288 with 1 Axes>"
      ]
     },
     "metadata": {
      "needs_background": "light"
     },
     "output_type": "display_data"
    }
   ],
   "source": [
    "a = ufos.groupby('year', as_index=False)['mdY_date'].count().plot.bar('year')\n",
    "plt.show()"
   ]
  },
  {
   "cell_type": "markdown",
   "metadata": {},
   "source": [
    "Problem is that there is not much flexibility in the \"bins\" which requires complicated pd.cut operations that I don't think will work with with widgets.  I want to explore something more compatible with Pandas df.hist() method.  I'll first start by converting the year strings into integers so that we can automate the binning."
   ]
  },
  {
   "cell_type": "code",
   "execution_count": 17,
   "metadata": {},
   "outputs": [],
   "source": [
    "shapeYearcount_ = ufos.groupby('year', as_index=False)['mdY_date'].count()"
   ]
  },
  {
   "cell_type": "code",
   "execution_count": 18,
   "metadata": {},
   "outputs": [
    {
     "data": {
      "text/plain": [
       "year        int64\n",
       "mdY_date    int64\n",
       "dtype: object"
      ]
     },
     "execution_count": 18,
     "metadata": {},
     "output_type": "execute_result"
    }
   ],
   "source": [
    "shapeYearcount_.dtypes"
   ]
  },
  {
   "cell_type": "code",
   "execution_count": 19,
   "metadata": {},
   "outputs": [
    {
     "data": {
      "image/png": "[encoded data removed]",
      "text/plain": [
       "<Figure size 432x288 with 1 Axes>"
      ]
     },
     "metadata": {
      "needs_background": "light"
     },
     "output_type": "display_data"
    }
   ],
   "source": [
    "shapeYearcount_.hist(column='year', bins=10)\n",
    "plt.show()"
   ]
  },
  {
   "cell_type": "markdown",
   "metadata": {},
   "source": [
    "Let's pull together a few more UFO stats for more choices later in our plot."
   ]
  },
  {
   "cell_type": "code",
   "execution_count": 20,
   "metadata": {},
   "outputs": [],
   "source": [
    "shapeYearmax_ = ufos.groupby('year', as_index=False)['mdY_date'].max()\n",
    "shapeYearmin_ = ufos.groupby('year', as_index=False)['mdY_date'].min()"
   ]
  },
  {
   "cell_type": "markdown",
   "metadata": {},
   "source": [
    "Now let's pull this together into an interactive widget.  We'll start with the same structure we used in Exercise #1 by creating some reusable functions for the .observe of traitlets."
   ]
  },
  {
   "cell_type": "code",
   "execution_count": 21,
   "metadata": {},
   "outputs": [],
   "source": [
    "def plot_hist(stat, bin_num, color):\n",
    "    if stat == 'count':        \n",
    "        shapeYearcount_.hist(column='year', bins=bin_num, color=color)\n",
    "    if stat == 'max':\n",
    "        shapeYearmax_.hist(column='year', bins=bin_num, color=color)\n",
    "    if stat == 'min':\n",
    "        shapeYearmin_.hist(column='year', bins=bin_num, color=color)\n"
   ]
  },
  {
   "cell_type": "code",
   "execution_count": 22,
   "metadata": {},
   "outputs": [],
   "source": [
    "dropdown_stat = ipywidgets.Dropdown(\n",
    "    value='count', \n",
    "    options=['count', 'max', 'min'], \n",
    "    description='UFO Stat')\n",
    "\n",
    "# This blog by Patrick Steegstra was useful in finding \"continuous_update=False\" parameter for making the plot draw\n",
    "# only when I released the mouse button on the bins_slider widget.\n",
    "# Blog can be found here:  https://kapernikov.com/ipywidgets-with-matplotlib/ \n",
    "bins_slider = ipywidgets.IntSlider(value=1, min=5, max=50, step=1, description='Year Binning', continuous_update=False)\n",
    "\n",
    "# Color picker widget found on ipywidget.readthedocs here:\n",
    "# https://ipywidgets.readthedocs.io/en/latest/examples/Widget%20List.html \n",
    "color_picker2 = ipywidgets.ColorPicker(value='#ff0000', description='Choose Color')"
   ]
  },
  {
   "cell_type": "code",
   "execution_count": 23,
   "metadata": {},
   "outputs": [],
   "source": [
    "def stat_update(change):\n",
    "    clear_output()\n",
    "    display(ipywidgets.HBox([dropdown_stat, bins_slider, color_picker2]))\n",
    "    plot_hist(change['new'], bins_slider.value, color_picker.value)\n",
    "\n",
    "def bins_update(change):\n",
    "    clear_output()\n",
    "    display(ipywidgets.HBox([dropdown_stat, bins_slider, color_picker2]))\n",
    "    plot_hist(dropdown_stat.value, change['new'], color_picker2.value)\n",
    "\n",
    "def color2_update(change):\n",
    "    clear_output()\n",
    "    display(ipywidgets.HBox([dropdown_stat, bins_slider, color_picker2]))\n",
    "    plot_hist(dropdown_stat.value, bins_slider.value, change['new'])\n",
    "    \n",
    "dropdown_stat.observe(stat_update, 'value')\n",
    "bins_slider.observe(bins_update, 'value')\n",
    "color_picker2.observe(color2_update, 'value')"
   ]
  },
  {
   "cell_type": "code",
   "execution_count": 24,
   "metadata": {},
   "outputs": [
    {
     "data": {
      "application/vnd.jupyter.widget-view+json": {
       "model_id": "e7cdc4dca4264eafbb6504b9edba95ba",
       "version_major": 2,
       "version_minor": 0
      },
      "text/plain": [
       "HBox(children=(Dropdown(description='UFO Stat', options=('count', 'max', 'min'), value='count'), IntSlider(val…"
      ]
     },
     "metadata": {},
     "output_type": "display_data"
    },
    {
     "data": {
      "image/png": "[encoded data removed]",
      "text/plain": [
       "<Figure size 432x288 with 1 Axes>"
      ]
     },
     "metadata": {
      "needs_background": "light"
     },
     "output_type": "display_data"
    }
   ],
   "source": [
    "plot_hist('count', 20, '#ff0000')\n",
    "ipywidgets.HBox([dropdown_stat, bins_slider, color_picker2])"
   ]
  },
  {
   "cell_type": "markdown",
   "metadata": {},
   "source": [
    "After experimenting, it did seem logical to only allow the end user the ability to change the aggregate function on the UFO stats rather than mixing various fields together; therefore, I only chose 1 column per axis, but allowed interactive altering of both axises for more depth.  This was primarily because there were few numericals to apply a binning function to, and while we could somehow enumerate categoricals, bins of those numbers would be meaningless.  With more time, I would have liked to work on a smoother re-draw of the plots, and explore and extract more meaningful statistics to apply to the aggregate data output.  "
   ]
  }
 ],
 "metadata": {
  "kernelspec": {
   "display_name": "Python 3",
   "language": "python",
   "name": "python3"
  },
  "language_info": {
   "codemirror_mode": {
    "name": "ipython",
    "version": 3
   },
   "file_extension": ".py",
   "mimetype": "text/x-python",
   "name": "python",
   "nbconvert_exporter": "python",
   "pygments_lexer": "ipython3",
   "version": "3.7.8"
  }
 },
 "nbformat": 4,
 "nbformat_minor": 4
}
